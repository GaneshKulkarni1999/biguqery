{
 "cells": [
  {
   "cell_type": "markdown",
   "id": "414cb6e0",
   "metadata": {},
   "source": [
    "# Bigquery using python"
   ]
  },
  {
   "cell_type": "markdown",
   "id": "300169c1",
   "metadata": {},
   "source": [
    "## 1"
   ]
  },
  {
   "cell_type": "code",
   "execution_count": 3,
   "id": "0067d7e8",
   "metadata": {},
   "outputs": [],
   "source": [
    "import os\n",
    "import pandas as pd\n",
    "from google.cloud import bigquery"
   ]
  },
  {
   "cell_type": "code",
   "execution_count": 4,
   "id": "459629b6",
   "metadata": {},
   "outputs": [],
   "source": [
    "os.environ['GOOGLE_APPLICATION_CREDENTIALS'] = 'D:\\Sanket\\Gcp\\Excel\\Key\\sanket-c.json'"
   ]
  },
  {
   "cell_type": "code",
   "execution_count": 5,
   "id": "c705801a",
   "metadata": {},
   "outputs": [],
   "source": [
    "client = bigquery.Client()"
   ]
  },
  {
   "cell_type": "code",
   "execution_count": 6,
   "id": "aaeca611",
   "metadata": {},
   "outputs": [],
   "source": [
    "tableName = client.get_table('sanket-c.Temp.customer_info')"
   ]
  },
  {
   "cell_type": "code",
   "execution_count": 7,
   "id": "b5769dc6",
   "metadata": {},
   "outputs": [
    {
     "name": "stdout",
     "output_type": "stream",
     "text": [
      "table is present\n"
     ]
    }
   ],
   "source": [
    "try:\n",
    "    if tableName:\n",
    "        print('table is present')\n",
    "except:\n",
    "    print('table not found')"
   ]
  },
  {
   "cell_type": "code",
   "execution_count": 16,
   "id": "3024a61a",
   "metadata": {},
   "outputs": [],
   "source": [
    "dataframeData = pd.read_gbq('sanket-c.Temp.customer_info')"
   ]
  },
  {
   "cell_type": "code",
   "execution_count": 19,
   "id": "02ebd239",
   "metadata": {
    "scrolled": true
   },
   "outputs": [],
   "source": [
    "import datetime\n",
    "dataframeData['Todays_date'] = datetime.date.today()\n",
    "# dataframeData['Todays_date'] = pd.to_datetime('today')"
   ]
  },
  {
   "cell_type": "code",
   "execution_count": 20,
   "id": "0e54fc34",
   "metadata": {
    "scrolled": true
   },
   "outputs": [
    {
     "data": {
      "text/html": [
       "<div>\n",
       "<style scoped>\n",
       "    .dataframe tbody tr th:only-of-type {\n",
       "        vertical-align: middle;\n",
       "    }\n",
       "\n",
       "    .dataframe tbody tr th {\n",
       "        vertical-align: top;\n",
       "    }\n",
       "\n",
       "    .dataframe thead th {\n",
       "        text-align: right;\n",
       "    }\n",
       "</style>\n",
       "<table border=\"1\" class=\"dataframe\">\n",
       "  <thead>\n",
       "    <tr style=\"text-align: right;\">\n",
       "      <th></th>\n",
       "      <th>customer_name</th>\n",
       "      <th>zip_code</th>\n",
       "      <th>email</th>\n",
       "      <th>state</th>\n",
       "      <th>Todays_date</th>\n",
       "    </tr>\n",
       "  </thead>\n",
       "  <tbody>\n",
       "    <tr>\n",
       "      <th>0</th>\n",
       "      <td>Alice Jones</td>\n",
       "      <td>0000</td>\n",
       "      <td>alice.jones@example.com</td>\n",
       "      <td>TX</td>\n",
       "      <td>2024-03-29</td>\n",
       "    </tr>\n",
       "    <tr>\n",
       "      <th>1</th>\n",
       "      <td>Jane Smith</td>\n",
       "      <td>0000</td>\n",
       "      <td>jane.smith@example.com</td>\n",
       "      <td>NY</td>\n",
       "      <td>2024-03-29</td>\n",
       "    </tr>\n",
       "    <tr>\n",
       "      <th>2</th>\n",
       "      <td>John Doe</td>\n",
       "      <td>12345</td>\n",
       "      <td>john.doe@example.com</td>\n",
       "      <td>CA</td>\n",
       "      <td>2024-03-29</td>\n",
       "    </tr>\n",
       "  </tbody>\n",
       "</table>\n",
       "</div>"
      ],
      "text/plain": [
       "  customer_name zip_code                    email state Todays_date\n",
       "0   Alice Jones     0000  alice.jones@example.com    TX  2024-03-29\n",
       "1    Jane Smith     0000   jane.smith@example.com    NY  2024-03-29\n",
       "2      John Doe    12345     john.doe@example.com    CA  2024-03-29"
      ]
     },
     "execution_count": 20,
     "metadata": {},
     "output_type": "execute_result"
    }
   ],
   "source": [
    "dataframeData"
   ]
  },
  {
   "cell_type": "code",
   "execution_count": 21,
   "id": "a1d2028e",
   "metadata": {},
   "outputs": [
    {
     "data": {
      "text/plain": [
       "0    ALICE JONES\n",
       "1     JANE SMITH\n",
       "2       JOHN DOE\n",
       "Name: customer_name, dtype: object"
      ]
     },
     "execution_count": 21,
     "metadata": {},
     "output_type": "execute_result"
    }
   ],
   "source": [
    "# upper case\n",
    "dataframeData[\"customer_name\"].str.upper()"
   ]
  },
  {
   "cell_type": "code",
   "execution_count": 22,
   "id": "3efa3ed3",
   "metadata": {},
   "outputs": [],
   "source": [
    "# add Mr initially\n",
    "dataframeData[\"customer_name\"] = \"MR.\" + dataframeData['customer_name']"
   ]
  },
  {
   "cell_type": "code",
   "execution_count": 23,
   "id": "b92f08b8",
   "metadata": {},
   "outputs": [
    {
     "data": {
      "text/html": [
       "<div>\n",
       "<style scoped>\n",
       "    .dataframe tbody tr th:only-of-type {\n",
       "        vertical-align: middle;\n",
       "    }\n",
       "\n",
       "    .dataframe tbody tr th {\n",
       "        vertical-align: top;\n",
       "    }\n",
       "\n",
       "    .dataframe thead th {\n",
       "        text-align: right;\n",
       "    }\n",
       "</style>\n",
       "<table border=\"1\" class=\"dataframe\">\n",
       "  <thead>\n",
       "    <tr style=\"text-align: right;\">\n",
       "      <th></th>\n",
       "      <th>customer_name</th>\n",
       "      <th>zip_code</th>\n",
       "      <th>email</th>\n",
       "      <th>state</th>\n",
       "      <th>Todays_date</th>\n",
       "    </tr>\n",
       "  </thead>\n",
       "  <tbody>\n",
       "    <tr>\n",
       "      <th>0</th>\n",
       "      <td>MR.Alice Jones</td>\n",
       "      <td>0000</td>\n",
       "      <td>alice.jones@example.com</td>\n",
       "      <td>TX</td>\n",
       "      <td>2024-03-29</td>\n",
       "    </tr>\n",
       "    <tr>\n",
       "      <th>1</th>\n",
       "      <td>MR.Jane Smith</td>\n",
       "      <td>0000</td>\n",
       "      <td>jane.smith@example.com</td>\n",
       "      <td>NY</td>\n",
       "      <td>2024-03-29</td>\n",
       "    </tr>\n",
       "    <tr>\n",
       "      <th>2</th>\n",
       "      <td>MR.John Doe</td>\n",
       "      <td>12345</td>\n",
       "      <td>john.doe@example.com</td>\n",
       "      <td>CA</td>\n",
       "      <td>2024-03-29</td>\n",
       "    </tr>\n",
       "  </tbody>\n",
       "</table>\n",
       "</div>"
      ],
      "text/plain": [
       "    customer_name zip_code                    email state Todays_date\n",
       "0  MR.Alice Jones     0000  alice.jones@example.com    TX  2024-03-29\n",
       "1   MR.Jane Smith     0000   jane.smith@example.com    NY  2024-03-29\n",
       "2     MR.John Doe    12345     john.doe@example.com    CA  2024-03-29"
      ]
     },
     "execution_count": 23,
     "metadata": {},
     "output_type": "execute_result"
    }
   ],
   "source": [
    "dataframeData"
   ]
  },
  {
   "cell_type": "code",
   "execution_count": 24,
   "id": "b0130065",
   "metadata": {},
   "outputs": [
    {
     "data": {
      "text/plain": [
       "0    12345\n",
       "1    12345\n",
       "2    12345\n",
       "Name: zip_code, dtype: object"
      ]
     },
     "execution_count": 24,
     "metadata": {},
     "output_type": "execute_result"
    }
   ],
   "source": [
    "dataframeData['zip_code'].replace('0000', '12345')"
   ]
  },
  {
   "cell_type": "code",
   "execution_count": 25,
   "id": "6ecc4416",
   "metadata": {},
   "outputs": [
    {
     "data": {
      "text/html": [
       "<div>\n",
       "<style scoped>\n",
       "    .dataframe tbody tr th:only-of-type {\n",
       "        vertical-align: middle;\n",
       "    }\n",
       "\n",
       "    .dataframe tbody tr th {\n",
       "        vertical-align: top;\n",
       "    }\n",
       "\n",
       "    .dataframe thead th {\n",
       "        text-align: right;\n",
       "    }\n",
       "</style>\n",
       "<table border=\"1\" class=\"dataframe\">\n",
       "  <thead>\n",
       "    <tr style=\"text-align: right;\">\n",
       "      <th></th>\n",
       "      <th>customer_name</th>\n",
       "      <th>zip_code</th>\n",
       "      <th>email</th>\n",
       "      <th>state</th>\n",
       "      <th>Todays_date</th>\n",
       "    </tr>\n",
       "  </thead>\n",
       "  <tbody>\n",
       "    <tr>\n",
       "      <th>0</th>\n",
       "      <td>MR.Alice Jones</td>\n",
       "      <td>0000</td>\n",
       "      <td>alice.jones@example.com</td>\n",
       "      <td>TX</td>\n",
       "      <td>2024-03-29</td>\n",
       "    </tr>\n",
       "    <tr>\n",
       "      <th>1</th>\n",
       "      <td>MR.Jane Smith</td>\n",
       "      <td>0000</td>\n",
       "      <td>jane.smith@example.com</td>\n",
       "      <td>NY</td>\n",
       "      <td>2024-03-29</td>\n",
       "    </tr>\n",
       "    <tr>\n",
       "      <th>2</th>\n",
       "      <td>MR.John Doe</td>\n",
       "      <td>12345</td>\n",
       "      <td>john.doe@example.com</td>\n",
       "      <td>CA</td>\n",
       "      <td>2024-03-29</td>\n",
       "    </tr>\n",
       "  </tbody>\n",
       "</table>\n",
       "</div>"
      ],
      "text/plain": [
       "    customer_name zip_code                    email state Todays_date\n",
       "0  MR.Alice Jones     0000  alice.jones@example.com    TX  2024-03-29\n",
       "1   MR.Jane Smith     0000   jane.smith@example.com    NY  2024-03-29\n",
       "2     MR.John Doe    12345     john.doe@example.com    CA  2024-03-29"
      ]
     },
     "execution_count": 25,
     "metadata": {},
     "output_type": "execute_result"
    }
   ],
   "source": [
    "dataframeData"
   ]
  },
  {
   "cell_type": "markdown",
   "id": "326df5bf",
   "metadata": {},
   "source": [
    "## 2 "
   ]
  },
  {
   "cell_type": "code",
   "execution_count": 110,
   "id": "5b8989b6",
   "metadata": {},
   "outputs": [],
   "source": [
    "tableName = \"sanket-c.Temp.order_table\""
   ]
  },
  {
   "cell_type": "code",
   "execution_count": 111,
   "id": "f42bd1b5",
   "metadata": {},
   "outputs": [],
   "source": [
    "dataToRead = pd.read_gbq(\"sanket-c.Temp.order_table\")"
   ]
  },
  {
   "cell_type": "code",
   "execution_count": 112,
   "id": "f463f6cf",
   "metadata": {},
   "outputs": [
    {
     "data": {
      "text/html": [
       "<div>\n",
       "<style scoped>\n",
       "    .dataframe tbody tr th:only-of-type {\n",
       "        vertical-align: middle;\n",
       "    }\n",
       "\n",
       "    .dataframe tbody tr th {\n",
       "        vertical-align: top;\n",
       "    }\n",
       "\n",
       "    .dataframe thead th {\n",
       "        text-align: right;\n",
       "    }\n",
       "</style>\n",
       "<table border=\"1\" class=\"dataframe\">\n",
       "  <thead>\n",
       "    <tr style=\"text-align: right;\">\n",
       "      <th></th>\n",
       "      <th>customer_id</th>\n",
       "      <th>order_value</th>\n",
       "      <th>product_category</th>\n",
       "    </tr>\n",
       "  </thead>\n",
       "  <tbody>\n",
       "    <tr>\n",
       "      <th>0</th>\n",
       "      <td>customer4</td>\n",
       "      <td>35.0</td>\n",
       "      <td>Clothing</td>\n",
       "    </tr>\n",
       "    <tr>\n",
       "      <th>1</th>\n",
       "      <td>customer2</td>\n",
       "      <td>25.0</td>\n",
       "      <td>Clothing</td>\n",
       "    </tr>\n",
       "    <tr>\n",
       "      <th>2</th>\n",
       "      <td>customer3</td>\n",
       "      <td>320.7</td>\n",
       "      <td>Appliances</td>\n",
       "    </tr>\n",
       "    <tr>\n",
       "      <th>3</th>\n",
       "      <td>customer3</td>\n",
       "      <td>150.0</td>\n",
       "      <td>Appliances</td>\n",
       "    </tr>\n",
       "    <tr>\n",
       "      <th>4</th>\n",
       "      <td>customer5</td>\n",
       "      <td>211.0</td>\n",
       "      <td>Electronics</td>\n",
       "    </tr>\n",
       "    <tr>\n",
       "      <th>5</th>\n",
       "      <td>customer1</td>\n",
       "      <td>100.6</td>\n",
       "      <td>Electronics</td>\n",
       "    </tr>\n",
       "  </tbody>\n",
       "</table>\n",
       "</div>"
      ],
      "text/plain": [
       "  customer_id  order_value product_category\n",
       "0   customer4         35.0         Clothing\n",
       "1   customer2         25.0         Clothing\n",
       "2   customer3        320.7       Appliances\n",
       "3   customer3        150.0       Appliances\n",
       "4   customer5        211.0      Electronics\n",
       "5   customer1        100.6      Electronics"
      ]
     },
     "execution_count": 112,
     "metadata": {},
     "output_type": "execute_result"
    }
   ],
   "source": [
    "dataToRead"
   ]
  },
  {
   "cell_type": "code",
   "execution_count": 129,
   "id": "719da554",
   "metadata": {},
   "outputs": [],
   "source": [
    "sqlQuery = 'select product_category, ceil(sum(order_value)) as total_revenue from `sanket-c.Temp.order_table` group by product_category'"
   ]
  },
  {
   "cell_type": "code",
   "execution_count": 130,
   "id": "ef534de9",
   "metadata": {},
   "outputs": [],
   "source": [
    "newData = client.query(sqlQuery)"
   ]
  },
  {
   "cell_type": "code",
   "execution_count": 131,
   "id": "38955154",
   "metadata": {},
   "outputs": [],
   "source": [
    "newDataToRead = newData.to_dataframe()"
   ]
  },
  {
   "cell_type": "code",
   "execution_count": 135,
   "id": "88706003",
   "metadata": {
    "collapsed": true
   },
   "outputs": [
    {
     "name": "stderr",
     "output_type": "stream",
     "text": [
      "100%|██████████| 1/1 [00:00<?, ?it/s]"
     ]
    },
    {
     "name": "stdout",
     "output_type": "stream",
     "text": [
      "Table grouped_table created in dataset Temp for project sanket-c\n",
      "3  records inserted\n"
     ]
    },
    {
     "name": "stderr",
     "output_type": "stream",
     "text": [
      "\n"
     ]
    }
   ],
   "source": [
    "try:\n",
    "    newDataToRead.to_gbq(\"sanket-c.Temp.grouped_table\")\n",
    "    print('Table grouped_table created in dataset Temp for project sanket-c')\n",
    "    print(len(newDataToRead), ' records inserted')\n",
    "except:\n",
    "    print('table already exist')"
   ]
  },
  {
   "cell_type": "code",
   "execution_count": 137,
   "id": "159aec80",
   "metadata": {},
   "outputs": [
    {
     "data": {
      "text/html": [
       "<div>\n",
       "<style scoped>\n",
       "    .dataframe tbody tr th:only-of-type {\n",
       "        vertical-align: middle;\n",
       "    }\n",
       "\n",
       "    .dataframe tbody tr th {\n",
       "        vertical-align: top;\n",
       "    }\n",
       "\n",
       "    .dataframe thead th {\n",
       "        text-align: right;\n",
       "    }\n",
       "</style>\n",
       "<table border=\"1\" class=\"dataframe\">\n",
       "  <thead>\n",
       "    <tr style=\"text-align: right;\">\n",
       "      <th></th>\n",
       "      <th>product_category</th>\n",
       "      <th>total_revenue</th>\n",
       "    </tr>\n",
       "  </thead>\n",
       "  <tbody>\n",
       "    <tr>\n",
       "      <th>0</th>\n",
       "      <td>Clothing</td>\n",
       "      <td>60.0</td>\n",
       "    </tr>\n",
       "    <tr>\n",
       "      <th>1</th>\n",
       "      <td>Appliances</td>\n",
       "      <td>471.0</td>\n",
       "    </tr>\n",
       "    <tr>\n",
       "      <th>2</th>\n",
       "      <td>Electronics</td>\n",
       "      <td>312.0</td>\n",
       "    </tr>\n",
       "  </tbody>\n",
       "</table>\n",
       "</div>"
      ],
      "text/plain": [
       "  product_category  total_revenue\n",
       "0         Clothing           60.0\n",
       "1       Appliances          471.0\n",
       "2      Electronics          312.0"
      ]
     },
     "execution_count": 137,
     "metadata": {},
     "output_type": "execute_result"
    }
   ],
   "source": [
    "newDataToRead"
   ]
  },
  {
   "cell_type": "markdown",
   "id": "48c13639",
   "metadata": {},
   "source": [
    "# Python code"
   ]
  },
  {
   "cell_type": "code",
   "execution_count": 76,
   "id": "26de26f0",
   "metadata": {},
   "outputs": [
    {
     "name": "stdout",
     "output_type": "stream",
     "text": [
      "Enter a stringsanket is sanket\n"
     ]
    },
    {
     "data": {
      "text/plain": [
       "True"
      ]
     },
     "execution_count": 76,
     "metadata": {},
     "output_type": "execute_result"
    }
   ],
   "source": [
    "# 1\n",
    "def check_duplicates(sen):\n",
    "    sen = sen.split()\n",
    "    for i in sen:\n",
    "        if sen.count(i) > 1:\n",
    "            return True\n",
    "        else:\n",
    "            return False\n",
    "        \n",
    "check_duplicates(input('Enter a string - '))"
   ]
  },
  {
   "cell_type": "code",
   "execution_count": 138,
   "id": "25089b86",
   "metadata": {},
   "outputs": [
    {
     "data": {
      "text/plain": [
       "{'first_name': 'John', 'last_name': 'Doe', 'id': '123'}"
      ]
     },
     "execution_count": 138,
     "metadata": {},
     "output_type": "execute_result"
    }
   ],
   "source": [
    "# 2\n",
    "def encodestring(sen):\n",
    "    st = sen.split('000')\n",
    "    dictName = {}\n",
    "\n",
    "    dictName['first_name'] = st[0]\n",
    "    dictName['last_name'] = st[1]\n",
    "    dictName['id'] = st[2]\n",
    "    return dictName\n",
    "\n",
    "encodestring(\"John000Doe000123\")"
   ]
  },
  {
   "cell_type": "code",
   "execution_count": 140,
   "id": "6fe6c555",
   "metadata": {},
   "outputs": [
    {
     "name": "stdout",
     "output_type": "stream",
     "text": [
      "smallest - 11 \n",
      "largest - 99\n"
     ]
    }
   ],
   "source": [
    "# 3\n",
    "def lar_smallest_no(l):\n",
    "    smallest = l[0]\n",
    "    largest = l[0]\n",
    "\n",
    "    for i in l:\n",
    "        if i < smallest:\n",
    "            smallest = i\n",
    "        if i > largest:\n",
    "            largest = i\n",
    "    return print(f'smallest - {smallest} \\nlargest - {largest}')\n",
    "        \n",
    "    \n",
    "lar_smallest_no([11,17,19,76,99])"
   ]
  },
  {
   "cell_type": "code",
   "execution_count": null,
   "id": "6e316f91",
   "metadata": {},
   "outputs": [],
   "source": []
  }
 ],
 "metadata": {
  "kernelspec": {
   "display_name": "Python 3 (ipykernel)",
   "language": "python",
   "name": "python3"
  },
  "language_info": {
   "codemirror_mode": {
    "name": "ipython",
    "version": 3
   },
   "file_extension": ".py",
   "mimetype": "text/x-python",
   "name": "python",
   "nbconvert_exporter": "python",
   "pygments_lexer": "ipython3",
   "version": "3.11.5"
  }
 },
 "nbformat": 4,
 "nbformat_minor": 5
}
